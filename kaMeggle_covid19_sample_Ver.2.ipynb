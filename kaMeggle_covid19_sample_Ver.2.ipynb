{
 "cells": [
  {
   "cell_type": "markdown",
   "id": "velvet-subcommittee",
   "metadata": {
    "id": "gPSgTlP2pwQk",
    "papermill": {
     "duration": 0.038684,
     "end_time": "2021-07-23T15:41:56.174455",
     "exception": false,
     "start_time": "2021-07-23T15:41:56.135771",
     "status": "completed"
    },
    "tags": []
   },
   "source": [
    "## **修正版**"
   ]
  },
  {
   "cell_type": "markdown",
   "id": "exclusive-patch",
   "metadata": {
    "id": "MT9QmHxZptXv",
    "papermill": {
     "duration": 0.040632,
     "end_time": "2021-07-23T15:41:56.251189",
     "exception": false,
     "start_time": "2021-07-23T15:41:56.210557",
     "status": "completed"
    },
    "tags": []
   },
   "source": [
    "引用元：https://www.kaggle.com/madz2000/simple-covid19-week-4-prediction-with-xgbregressor"
   ]
  },
  {
   "cell_type": "code",
   "execution_count": 1,
   "id": "aboriginal-dealer",
   "metadata": {
    "_cell_guid": "b1076dfc-b9ad-4769-8c92-a6c4dae69d19",
    "_uuid": "8f2839f25d086af736a60e9eeb907d3b93b6e0e5",
    "id": "uGy3Cw-1ptXz",
    "papermill": {
     "duration": 0.06516,
     "end_time": "2021-07-23T15:41:56.369038",
     "exception": false,
     "start_time": "2021-07-23T15:41:56.303878",
     "status": "completed"
    },
    "tags": []
   },
   "outputs": [],
   "source": [
    "# This Python 3 environment comes with many helpful analytics libraries installed\n",
    "# It is defined by the kaggle/python Docker image: https://github.com/kaggle/docker-python\n",
    "# For example, here's several helpful packages to load\n",
    "import numpy as np # linear algebra\n",
    "import pandas as pd # data processing, CSV file I/O (e.g. pd.read_csv)\n",
    "\n",
    "# Input data files are available in the read-only \"../input/\" directory\n",
    "# For example, running this (by clicking run or pressing Shift+Enter) will list all files under the input directory\n",
    "import os\n",
    "for dirname, _, filenames in os.walk('/kaggle/input'):\n",
    "    for filename in filenames:\n",
    "        print(os.path.join(dirname, filename))\n",
    "\n",
    "# You can write up to 20GB to the current directory (/kaggle/working/) that gets preserved as output when you create a version using \"Save & Run All\" \n",
    "# You can also write temporary files to /kaggle/temp/, but they won't be saved outside of the current session"
   ]
  },
  {
   "cell_type": "code",
   "execution_count": 2,
   "id": "variable-phenomenon",
   "metadata": {
    "id": "45tsp5lNptX1",
    "papermill": {
     "duration": 1.19989,
     "end_time": "2021-07-23T15:41:57.604621",
     "exception": false,
     "start_time": "2021-07-23T15:41:56.404731",
     "status": "completed"
    },
    "tags": []
   },
   "outputs": [],
   "source": [
    "#ライブラリやモジュールの読み込み\n",
    "import seaborn as sns\n",
    "import matplotlib.pyplot as plt\n",
    "%matplotlib inline\n",
    "\n",
    "from sklearn import preprocessing\n",
    "from sklearn.preprocessing import MinMaxScaler\n",
    "from sklearn.model_selection import train_test_split\n",
    "from sklearn.multioutput import MultiOutputRegressor\n",
    "from sklearn.impute import SimpleImputer\n",
    "\n",
    "import warnings\n",
    "warnings.simplefilter(\"ignore\")"
   ]
  },
  {
   "cell_type": "markdown",
   "id": "infectious-belly",
   "metadata": {
    "id": "uS5bIPqtptX2",
    "papermill": {
     "duration": 0.037274,
     "end_time": "2021-07-23T15:41:57.678488",
     "exception": false,
     "start_time": "2021-07-23T15:41:57.641214",
     "status": "completed"
    },
    "tags": []
   },
   "source": [
    "## データの読み込み"
   ]
  },
  {
   "cell_type": "code",
   "execution_count": 3,
   "id": "formed-october",
   "metadata": {
    "id": "m1uPC4kvptX2",
    "papermill": {
     "duration": 0.185859,
     "end_time": "2021-07-23T15:41:57.900142",
     "exception": false,
     "start_time": "2021-07-23T15:41:57.714283",
     "status": "completed"
    },
    "tags": []
   },
   "outputs": [],
   "source": [
    "#trainデータ、testデータ、submissionデータを読み込む\n",
    "train_df = pd.read_csv(\"./covid19-global-forecasting-week-4/train.csv\")\n",
    "test_df = pd.read_csv(\"./covid19-global-forecasting-week-4/test.csv\")\n",
    "submission = pd.read_csv(\"./covid19-global-forecasting-week-4/submission.csv\")"
   ]
  },
  {
   "cell_type": "code",
   "execution_count": 4,
   "id": "printable-murder",
   "metadata": {
    "id": "fTKz3wtBptX3",
    "outputId": "a37cc31e-d65f-4f00-c68d-2987756d1c4c",
    "papermill": {
     "duration": 0.064488,
     "end_time": "2021-07-23T15:41:58.000831",
     "exception": false,
     "start_time": "2021-07-23T15:41:57.936343",
     "status": "completed"
    },
    "tags": []
   },
   "outputs": [
    {
     "data": {
      "text/html": [
       "<div>\n",
       "<style scoped>\n",
       "    .dataframe tbody tr th:only-of-type {\n",
       "        vertical-align: middle;\n",
       "    }\n",
       "\n",
       "    .dataframe tbody tr th {\n",
       "        vertical-align: top;\n",
       "    }\n",
       "\n",
       "    .dataframe thead th {\n",
       "        text-align: right;\n",
       "    }\n",
       "</style>\n",
       "<table border=\"1\" class=\"dataframe\">\n",
       "  <thead>\n",
       "    <tr style=\"text-align: right;\">\n",
       "      <th></th>\n",
       "      <th>Id</th>\n",
       "      <th>Province_State</th>\n",
       "      <th>Country_Region</th>\n",
       "      <th>Date</th>\n",
       "      <th>ConfirmedCases</th>\n",
       "      <th>Fatalities</th>\n",
       "    </tr>\n",
       "  </thead>\n",
       "  <tbody>\n",
       "    <tr>\n",
       "      <th>0</th>\n",
       "      <td>1</td>\n",
       "      <td>NaN</td>\n",
       "      <td>Afghanistan</td>\n",
       "      <td>2020-01-22</td>\n",
       "      <td>0.0</td>\n",
       "      <td>0.0</td>\n",
       "    </tr>\n",
       "    <tr>\n",
       "      <th>1</th>\n",
       "      <td>2</td>\n",
       "      <td>NaN</td>\n",
       "      <td>Afghanistan</td>\n",
       "      <td>2020-01-23</td>\n",
       "      <td>0.0</td>\n",
       "      <td>0.0</td>\n",
       "    </tr>\n",
       "    <tr>\n",
       "      <th>2</th>\n",
       "      <td>3</td>\n",
       "      <td>NaN</td>\n",
       "      <td>Afghanistan</td>\n",
       "      <td>2020-01-24</td>\n",
       "      <td>0.0</td>\n",
       "      <td>0.0</td>\n",
       "    </tr>\n",
       "    <tr>\n",
       "      <th>3</th>\n",
       "      <td>4</td>\n",
       "      <td>NaN</td>\n",
       "      <td>Afghanistan</td>\n",
       "      <td>2020-01-25</td>\n",
       "      <td>0.0</td>\n",
       "      <td>0.0</td>\n",
       "    </tr>\n",
       "    <tr>\n",
       "      <th>4</th>\n",
       "      <td>5</td>\n",
       "      <td>NaN</td>\n",
       "      <td>Afghanistan</td>\n",
       "      <td>2020-01-26</td>\n",
       "      <td>0.0</td>\n",
       "      <td>0.0</td>\n",
       "    </tr>\n",
       "  </tbody>\n",
       "</table>\n",
       "</div>"
      ],
      "text/plain": [
       "   Id Province_State Country_Region        Date  ConfirmedCases  Fatalities\n",
       "0   1            NaN    Afghanistan  2020-01-22             0.0         0.0\n",
       "1   2            NaN    Afghanistan  2020-01-23             0.0         0.0\n",
       "2   3            NaN    Afghanistan  2020-01-24             0.0         0.0\n",
       "3   4            NaN    Afghanistan  2020-01-25             0.0         0.0\n",
       "4   5            NaN    Afghanistan  2020-01-26             0.0         0.0"
      ]
     },
     "execution_count": 4,
     "metadata": {},
     "output_type": "execute_result"
    }
   ],
   "source": [
    "#trainデータが読み込まれているか確認\n",
    "train_df.head()"
   ]
  },
  {
   "cell_type": "code",
   "execution_count": 5,
   "id": "indian-twelve",
   "metadata": {
    "id": "DpDKeRKbptX4",
    "outputId": "372ab61a-f4bc-4aa3-a4c3-022f2c7756ba",
    "papermill": {
     "duration": 0.049007,
     "end_time": "2021-07-23T15:41:58.088964",
     "exception": false,
     "start_time": "2021-07-23T15:41:58.039957",
     "status": "completed"
    },
    "tags": []
   },
   "outputs": [
    {
     "data": {
      "text/html": [
       "<div>\n",
       "<style scoped>\n",
       "    .dataframe tbody tr th:only-of-type {\n",
       "        vertical-align: middle;\n",
       "    }\n",
       "\n",
       "    .dataframe tbody tr th {\n",
       "        vertical-align: top;\n",
       "    }\n",
       "\n",
       "    .dataframe thead th {\n",
       "        text-align: right;\n",
       "    }\n",
       "</style>\n",
       "<table border=\"1\" class=\"dataframe\">\n",
       "  <thead>\n",
       "    <tr style=\"text-align: right;\">\n",
       "      <th></th>\n",
       "      <th>ForecastId</th>\n",
       "      <th>Province_State</th>\n",
       "      <th>Country_Region</th>\n",
       "      <th>Date</th>\n",
       "    </tr>\n",
       "  </thead>\n",
       "  <tbody>\n",
       "    <tr>\n",
       "      <th>0</th>\n",
       "      <td>1</td>\n",
       "      <td>NaN</td>\n",
       "      <td>Afghanistan</td>\n",
       "      <td>2020-04-02</td>\n",
       "    </tr>\n",
       "    <tr>\n",
       "      <th>1</th>\n",
       "      <td>2</td>\n",
       "      <td>NaN</td>\n",
       "      <td>Afghanistan</td>\n",
       "      <td>2020-04-03</td>\n",
       "    </tr>\n",
       "    <tr>\n",
       "      <th>2</th>\n",
       "      <td>3</td>\n",
       "      <td>NaN</td>\n",
       "      <td>Afghanistan</td>\n",
       "      <td>2020-04-04</td>\n",
       "    </tr>\n",
       "    <tr>\n",
       "      <th>3</th>\n",
       "      <td>4</td>\n",
       "      <td>NaN</td>\n",
       "      <td>Afghanistan</td>\n",
       "      <td>2020-04-05</td>\n",
       "    </tr>\n",
       "    <tr>\n",
       "      <th>4</th>\n",
       "      <td>5</td>\n",
       "      <td>NaN</td>\n",
       "      <td>Afghanistan</td>\n",
       "      <td>2020-04-06</td>\n",
       "    </tr>\n",
       "  </tbody>\n",
       "</table>\n",
       "</div>"
      ],
      "text/plain": [
       "   ForecastId Province_State Country_Region        Date\n",
       "0           1            NaN    Afghanistan  2020-04-02\n",
       "1           2            NaN    Afghanistan  2020-04-03\n",
       "2           3            NaN    Afghanistan  2020-04-04\n",
       "3           4            NaN    Afghanistan  2020-04-05\n",
       "4           5            NaN    Afghanistan  2020-04-06"
      ]
     },
     "execution_count": 5,
     "metadata": {},
     "output_type": "execute_result"
    }
   ],
   "source": [
    "#testデータが読み込まれているか確認\n",
    "test_df.head()"
   ]
  },
  {
   "cell_type": "markdown",
   "id": "studied-unknown",
   "metadata": {
    "id": "8auUaIojptX4",
    "papermill": {
     "duration": 0.036889,
     "end_time": "2021-07-23T15:41:58.162293",
     "exception": false,
     "start_time": "2021-07-23T15:41:58.125404",
     "status": "completed"
    },
    "tags": []
   },
   "source": [
    "## データの前処理"
   ]
  },
  {
   "cell_type": "markdown",
   "id": "tribal-atlas",
   "metadata": {
    "papermill": {
     "duration": 0.036442,
     "end_time": "2021-07-23T15:41:58.236309",
     "exception": false,
     "start_time": "2021-07-23T15:41:58.199867",
     "status": "completed"
    },
    "tags": []
   },
   "source": [
    "### 重複日付の削除"
   ]
  },
  {
   "cell_type": "code",
   "execution_count": 6,
   "id": "fantastic-munich",
   "metadata": {
    "papermill": {
     "duration": 0.107798,
     "end_time": "2021-07-23T15:41:58.401381",
     "exception": false,
     "start_time": "2021-07-23T15:41:58.293583",
     "status": "completed"
    },
    "tags": []
   },
   "outputs": [
    {
     "name": "stdout",
     "output_type": "stream",
     "text": [
      "train_df最終日 : 2020-04-01\n",
      "test_df最初日 : 2020-04-02\n"
     ]
    }
   ],
   "source": [
    "# test_df以前の日付のみを学習データとして使用する。\n",
    "train_df = train_df[train_df['Date'] < test_df['Date'].min()]\n",
    "\n",
    "print('train_df最終日 : ' + train_df['Date'].max())\n",
    "print('test_df最初日 : ' + test_df['Date'].min())"
   ]
  },
  {
   "cell_type": "markdown",
   "id": "statistical-texas",
   "metadata": {
    "id": "0zhn7Z7PptX5",
    "papermill": {
     "duration": 0.062053,
     "end_time": "2021-07-23T15:41:58.524558",
     "exception": false,
     "start_time": "2021-07-23T15:41:58.462505",
     "status": "completed"
    },
    "tags": []
   },
   "source": [
    "### 欠損値補完"
   ]
  },
  {
   "cell_type": "code",
   "execution_count": 7,
   "id": "hawaiian-window",
   "metadata": {
    "id": "h-Hvc_C0ptX5",
    "outputId": "a6e7f7a5-55d3-4573-bb34-283dd1e4d402",
    "papermill": {
     "duration": 0.087673,
     "end_time": "2021-07-23T15:41:58.674925",
     "exception": false,
     "start_time": "2021-07-23T15:41:58.587252",
     "status": "completed"
    },
    "tags": []
   },
   "outputs": [
    {
     "data": {
      "text/plain": [
       "Id                    0\n",
       "Province_State    12780\n",
       "Country_Region        0\n",
       "Date                  0\n",
       "ConfirmedCases        0\n",
       "Fatalities            0\n",
       "dtype: int64"
      ]
     },
     "execution_count": 7,
     "metadata": {},
     "output_type": "execute_result"
    }
   ],
   "source": [
    "#trainデータの欠損値を確認し集計(.isnull()でも効果は同じ)\n",
    "train_df.isna().sum()"
   ]
  },
  {
   "cell_type": "code",
   "execution_count": 8,
   "id": "engaged-saint",
   "metadata": {
    "id": "tsd7bkdPptX5",
    "outputId": "bc78863d-f4a8-4f89-950a-005f4becdd80",
    "papermill": {
     "duration": 0.084422,
     "end_time": "2021-07-23T15:41:58.821641",
     "exception": false,
     "start_time": "2021-07-23T15:41:58.737219",
     "status": "completed"
    },
    "tags": []
   },
   "outputs": [
    {
     "data": {
      "text/plain": [
       "ForecastId           0\n",
       "Province_State    7740\n",
       "Country_Region       0\n",
       "Date                 0\n",
       "dtype: int64"
      ]
     },
     "execution_count": 8,
     "metadata": {},
     "output_type": "execute_result"
    }
   ],
   "source": [
    "#testデータの欠損値を確認し集計(.isnull()でも効果は同じ)\n",
    "test_df.isna().sum()"
   ]
  },
  {
   "cell_type": "code",
   "execution_count": 9,
   "id": "widespread-membrane",
   "metadata": {
    "id": "mOpDqxevptX6",
    "papermill": {
     "duration": 0.049127,
     "end_time": "2021-07-23T15:41:58.912984",
     "exception": false,
     "start_time": "2021-07-23T15:41:58.863857",
     "status": "completed"
    },
    "tags": []
   },
   "outputs": [],
   "source": [
    "#trainデータとtestデータの欠損値を空白で埋めてデータフレームに反映させる\n",
    "train_df['Province_State'].fillna(\"\",inplace = True)\n",
    "test_df['Province_State'].fillna(\"\",inplace = True)"
   ]
  },
  {
   "cell_type": "markdown",
   "id": "nominated-significance",
   "metadata": {
    "id": "B5kfzy1qptX6",
    "papermill": {
     "duration": 0.037722,
     "end_time": "2021-07-23T15:41:58.988677",
     "exception": false,
     "start_time": "2021-07-23T15:41:58.950955",
     "status": "completed"
    },
    "tags": []
   },
   "source": [
    "## Country_Regionの補正"
   ]
  },
  {
   "cell_type": "code",
   "execution_count": 10,
   "id": "framed-print",
   "metadata": {
    "id": "GXKrNpw2ptX6",
    "papermill": {
     "duration": 0.070189,
     "end_time": "2021-07-23T15:41:59.096367",
     "exception": false,
     "start_time": "2021-07-23T15:41:59.026178",
     "status": "completed"
    },
    "tags": []
   },
   "outputs": [],
   "source": [
    "#Country_Region列にProvince_State列を足して、元のProvince_State列を削除させて列を統一させる\n",
    "train_df['Country_Region'] = train_df['Country_Region'] + ' ' + train_df['Province_State']\n",
    "test_df['Country_Region'] = test_df['Country_Region'] + ' ' + test_df['Province_State']\n",
    "del train_df['Province_State']\n",
    "del test_df['Province_State']"
   ]
  },
  {
   "cell_type": "code",
   "execution_count": 11,
   "id": "median-plant",
   "metadata": {
    "id": "SLyCDvgoptX7",
    "outputId": "27671231-f607-455b-f9b9-9420ed8c161f",
    "papermill": {
     "duration": 0.053331,
     "end_time": "2021-07-23T15:41:59.187509",
     "exception": false,
     "start_time": "2021-07-23T15:41:59.134178",
     "status": "completed"
    },
    "tags": []
   },
   "outputs": [
    {
     "data": {
      "text/html": [
       "<div>\n",
       "<style scoped>\n",
       "    .dataframe tbody tr th:only-of-type {\n",
       "        vertical-align: middle;\n",
       "    }\n",
       "\n",
       "    .dataframe tbody tr th {\n",
       "        vertical-align: top;\n",
       "    }\n",
       "\n",
       "    .dataframe thead th {\n",
       "        text-align: right;\n",
       "    }\n",
       "</style>\n",
       "<table border=\"1\" class=\"dataframe\">\n",
       "  <thead>\n",
       "    <tr style=\"text-align: right;\">\n",
       "      <th></th>\n",
       "      <th>Id</th>\n",
       "      <th>Country_Region</th>\n",
       "      <th>Date</th>\n",
       "      <th>ConfirmedCases</th>\n",
       "      <th>Fatalities</th>\n",
       "    </tr>\n",
       "  </thead>\n",
       "  <tbody>\n",
       "    <tr>\n",
       "      <th>0</th>\n",
       "      <td>1</td>\n",
       "      <td>Afghanistan</td>\n",
       "      <td>2020-01-22</td>\n",
       "      <td>0.0</td>\n",
       "      <td>0.0</td>\n",
       "    </tr>\n",
       "    <tr>\n",
       "      <th>1</th>\n",
       "      <td>2</td>\n",
       "      <td>Afghanistan</td>\n",
       "      <td>2020-01-23</td>\n",
       "      <td>0.0</td>\n",
       "      <td>0.0</td>\n",
       "    </tr>\n",
       "    <tr>\n",
       "      <th>2</th>\n",
       "      <td>3</td>\n",
       "      <td>Afghanistan</td>\n",
       "      <td>2020-01-24</td>\n",
       "      <td>0.0</td>\n",
       "      <td>0.0</td>\n",
       "    </tr>\n",
       "    <tr>\n",
       "      <th>3</th>\n",
       "      <td>4</td>\n",
       "      <td>Afghanistan</td>\n",
       "      <td>2020-01-25</td>\n",
       "      <td>0.0</td>\n",
       "      <td>0.0</td>\n",
       "    </tr>\n",
       "    <tr>\n",
       "      <th>4</th>\n",
       "      <td>5</td>\n",
       "      <td>Afghanistan</td>\n",
       "      <td>2020-01-26</td>\n",
       "      <td>0.0</td>\n",
       "      <td>0.0</td>\n",
       "    </tr>\n",
       "  </tbody>\n",
       "</table>\n",
       "</div>"
      ],
      "text/plain": [
       "   Id Country_Region        Date  ConfirmedCases  Fatalities\n",
       "0   1   Afghanistan   2020-01-22             0.0         0.0\n",
       "1   2   Afghanistan   2020-01-23             0.0         0.0\n",
       "2   3   Afghanistan   2020-01-24             0.0         0.0\n",
       "3   4   Afghanistan   2020-01-25             0.0         0.0\n",
       "4   5   Afghanistan   2020-01-26             0.0         0.0"
      ]
     },
     "execution_count": 11,
     "metadata": {},
     "output_type": "execute_result"
    }
   ],
   "source": [
    "#先ほどのコードが反映されているか確認\n",
    "train_df.head()"
   ]
  },
  {
   "cell_type": "markdown",
   "id": "coated-yield",
   "metadata": {
    "id": "l3Y4h9v0ptX7",
    "papermill": {
     "duration": 0.038186,
     "end_time": "2021-07-23T15:41:59.266924",
     "exception": false,
     "start_time": "2021-07-23T15:41:59.228738",
     "status": "completed"
    },
    "tags": []
   },
   "source": [
    "## 年月日の分割"
   ]
  },
  {
   "cell_type": "code",
   "execution_count": 12,
   "id": "constitutional-intro",
   "metadata": {
    "id": "lhjHVVDWptX7",
    "papermill": {
     "duration": 0.210796,
     "end_time": "2021-07-23T15:41:59.515785",
     "exception": false,
     "start_time": "2021-07-23T15:41:59.304989",
     "status": "completed"
    },
    "tags": []
   },
   "outputs": [],
   "source": [
    "#日時に関する関数の作成\n",
    "\n",
    "def split_date(date):\n",
    "    #('-')の文字を区切りとし、年[0]、月[1]、日[2]に分割\n",
    "    date = date.split('-')\n",
    "    #dateの年を整数に変換\n",
    "    date[0] = int(date[0])\n",
    "\n",
    "    #二桁ある月の前の数字が0の場合\n",
    "    if(date[1][0] == '0'):\n",
    "        #月の二桁目の数字のみを整数とする(ex:02→2)\n",
    "        date[1] = int(date[1][1])\n",
    "    #二桁ある月の前の数字が1の場合\n",
    "    else:\n",
    "        #そのまま整数とする(ex:12→12)\n",
    "        date[1] = int(date[1])\n",
    "\n",
    "    #二桁ある日の前の数字が0の場合\n",
    "    if(date[2][0] == '0'):\n",
    "        #日の二桁目の数字のみを整数とする(ex:02→2)\n",
    "        date[2] = int(date[2][1])\n",
    "    #二桁ある日の前の数字が0以外の場合\n",
    "    else:\n",
    "        #そのまま整数とする(ex:12→12)\n",
    "        date[2] = int(date[2])    \n",
    "    \n",
    "    return date\n",
    "\n",
    "#applyはfor文のような効果がありこれによりtrainデータとtestデータのdate全体にsplit_date関数をかけている\n",
    "#applyの参考：https://qiita.com/hisato-kawaji/items/0c66969343a196a65cee\n",
    "train_df.Date = train_df.Date.apply(split_date)\n",
    "test_df.Date = test_df.Date.apply(split_date)"
   ]
  },
  {
   "cell_type": "code",
   "execution_count": 13,
   "id": "narrow-burning",
   "metadata": {
    "id": "8iPOWkAKptX8",
    "outputId": "a96a2c26-d0d0-4892-c7a7-1154d0d9ecfb",
    "papermill": {
     "duration": 0.054653,
     "end_time": "2021-07-23T15:41:59.608345",
     "exception": false,
     "start_time": "2021-07-23T15:41:59.553692",
     "status": "completed"
    },
    "tags": []
   },
   "outputs": [
    {
     "data": {
      "text/html": [
       "<div>\n",
       "<style scoped>\n",
       "    .dataframe tbody tr th:only-of-type {\n",
       "        vertical-align: middle;\n",
       "    }\n",
       "\n",
       "    .dataframe tbody tr th {\n",
       "        vertical-align: top;\n",
       "    }\n",
       "\n",
       "    .dataframe thead th {\n",
       "        text-align: right;\n",
       "    }\n",
       "</style>\n",
       "<table border=\"1\" class=\"dataframe\">\n",
       "  <thead>\n",
       "    <tr style=\"text-align: right;\">\n",
       "      <th></th>\n",
       "      <th>Id</th>\n",
       "      <th>Country_Region</th>\n",
       "      <th>Date</th>\n",
       "      <th>ConfirmedCases</th>\n",
       "      <th>Fatalities</th>\n",
       "    </tr>\n",
       "  </thead>\n",
       "  <tbody>\n",
       "    <tr>\n",
       "      <th>0</th>\n",
       "      <td>1</td>\n",
       "      <td>Afghanistan</td>\n",
       "      <td>[2020, 1, 22]</td>\n",
       "      <td>0.0</td>\n",
       "      <td>0.0</td>\n",
       "    </tr>\n",
       "    <tr>\n",
       "      <th>1</th>\n",
       "      <td>2</td>\n",
       "      <td>Afghanistan</td>\n",
       "      <td>[2020, 1, 23]</td>\n",
       "      <td>0.0</td>\n",
       "      <td>0.0</td>\n",
       "    </tr>\n",
       "    <tr>\n",
       "      <th>2</th>\n",
       "      <td>3</td>\n",
       "      <td>Afghanistan</td>\n",
       "      <td>[2020, 1, 24]</td>\n",
       "      <td>0.0</td>\n",
       "      <td>0.0</td>\n",
       "    </tr>\n",
       "    <tr>\n",
       "      <th>3</th>\n",
       "      <td>4</td>\n",
       "      <td>Afghanistan</td>\n",
       "      <td>[2020, 1, 25]</td>\n",
       "      <td>0.0</td>\n",
       "      <td>0.0</td>\n",
       "    </tr>\n",
       "    <tr>\n",
       "      <th>4</th>\n",
       "      <td>5</td>\n",
       "      <td>Afghanistan</td>\n",
       "      <td>[2020, 1, 26]</td>\n",
       "      <td>0.0</td>\n",
       "      <td>0.0</td>\n",
       "    </tr>\n",
       "  </tbody>\n",
       "</table>\n",
       "</div>"
      ],
      "text/plain": [
       "   Id Country_Region           Date  ConfirmedCases  Fatalities\n",
       "0   1   Afghanistan   [2020, 1, 22]             0.0         0.0\n",
       "1   2   Afghanistan   [2020, 1, 23]             0.0         0.0\n",
       "2   3   Afghanistan   [2020, 1, 24]             0.0         0.0\n",
       "3   4   Afghanistan   [2020, 1, 25]             0.0         0.0\n",
       "4   5   Afghanistan   [2020, 1, 26]             0.0         0.0"
      ]
     },
     "execution_count": 13,
     "metadata": {},
     "output_type": "execute_result"
    }
   ],
   "source": [
    "#先ほどのコードが反映されているか確認\n",
    "train_df.head()"
   ]
  },
  {
   "cell_type": "code",
   "execution_count": 14,
   "id": "returning-fancy",
   "metadata": {
    "id": "vXZEi8buptX8",
    "papermill": {
     "duration": 0.057777,
     "end_time": "2021-07-23T15:41:59.705387",
     "exception": false,
     "start_time": "2021-07-23T15:41:59.647610",
     "status": "completed"
    },
    "tags": []
   },
   "outputs": [],
   "source": [
    "#year,month,dayそれぞれのリストを作成\n",
    "#trainデータのDateをyear,month,dayのリストにそれぞれ格納していく\n",
    "\n",
    "year = []\n",
    "month = []\n",
    "day = []\n",
    "for i in train_df.Date:\n",
    "    year.append(i[0])\n",
    "    month.append(i[1])\n",
    "    day.append(i[2])"
   ]
  },
  {
   "cell_type": "code",
   "execution_count": 15,
   "id": "present-witness",
   "metadata": {
    "id": "SHrMAXjHptX8",
    "papermill": {
     "duration": 0.075688,
     "end_time": "2021-07-23T15:41:59.819827",
     "exception": false,
     "start_time": "2021-07-23T15:41:59.744139",
     "status": "completed"
    },
    "tags": []
   },
   "outputs": [],
   "source": [
    "#先ほど作ったリストをデータフレームに加え、Date列を削除\n",
    "\n",
    "train_df['Year'] = year\n",
    "train_df['Month'] = month\n",
    "train_df['Day'] = day\n",
    "del train_df['Date']"
   ]
  },
  {
   "cell_type": "code",
   "execution_count": 16,
   "id": "green-artwork",
   "metadata": {
    "id": "iNINtbNyptX9",
    "papermill": {
     "duration": 0.055376,
     "end_time": "2021-07-23T15:41:59.913590",
     "exception": false,
     "start_time": "2021-07-23T15:41:59.858214",
     "status": "completed"
    },
    "tags": []
   },
   "outputs": [],
   "source": [
    "#先ほどtrainデータで行った事をtestデータでも行っていく\n",
    "\n",
    "year = []\n",
    "month = []\n",
    "day = []\n",
    "for i in test_df.Date:\n",
    "    year.append(i[0])\n",
    "    month.append(i[1])\n",
    "    day.append(i[2])"
   ]
  },
  {
   "cell_type": "code",
   "execution_count": 17,
   "id": "indirect-great",
   "metadata": {
    "id": "bvfKEek1ptX9",
    "papermill": {
     "duration": 0.066554,
     "end_time": "2021-07-23T15:42:00.018743",
     "exception": false,
     "start_time": "2021-07-23T15:41:59.952189",
     "status": "completed"
    },
    "tags": []
   },
   "outputs": [],
   "source": [
    "test_df['Year'] = year\n",
    "test_df['Month'] = month\n",
    "test_df['Day'] = day\n",
    "del test_df['Date']\n",
    "del train_df['Id']\n",
    "del test_df['ForecastId']"
   ]
  },
  {
   "cell_type": "code",
   "execution_count": 18,
   "id": "sustainable-invalid",
   "metadata": {
    "id": "UIpVKfzVptX9",
    "outputId": "701b6f15-be3f-4bbe-9de0-d13e00582855",
    "papermill": {
     "duration": 0.054179,
     "end_time": "2021-07-23T15:42:00.111555",
     "exception": false,
     "start_time": "2021-07-23T15:42:00.057376",
     "status": "completed"
    },
    "tags": []
   },
   "outputs": [
    {
     "data": {
      "text/html": [
       "<div>\n",
       "<style scoped>\n",
       "    .dataframe tbody tr th:only-of-type {\n",
       "        vertical-align: middle;\n",
       "    }\n",
       "\n",
       "    .dataframe tbody tr th {\n",
       "        vertical-align: top;\n",
       "    }\n",
       "\n",
       "    .dataframe thead th {\n",
       "        text-align: right;\n",
       "    }\n",
       "</style>\n",
       "<table border=\"1\" class=\"dataframe\">\n",
       "  <thead>\n",
       "    <tr style=\"text-align: right;\">\n",
       "      <th></th>\n",
       "      <th>Country_Region</th>\n",
       "      <th>ConfirmedCases</th>\n",
       "      <th>Fatalities</th>\n",
       "      <th>Year</th>\n",
       "      <th>Month</th>\n",
       "      <th>Day</th>\n",
       "    </tr>\n",
       "  </thead>\n",
       "  <tbody>\n",
       "    <tr>\n",
       "      <th>0</th>\n",
       "      <td>Afghanistan</td>\n",
       "      <td>0.0</td>\n",
       "      <td>0.0</td>\n",
       "      <td>2020</td>\n",
       "      <td>1</td>\n",
       "      <td>22</td>\n",
       "    </tr>\n",
       "    <tr>\n",
       "      <th>1</th>\n",
       "      <td>Afghanistan</td>\n",
       "      <td>0.0</td>\n",
       "      <td>0.0</td>\n",
       "      <td>2020</td>\n",
       "      <td>1</td>\n",
       "      <td>23</td>\n",
       "    </tr>\n",
       "    <tr>\n",
       "      <th>2</th>\n",
       "      <td>Afghanistan</td>\n",
       "      <td>0.0</td>\n",
       "      <td>0.0</td>\n",
       "      <td>2020</td>\n",
       "      <td>1</td>\n",
       "      <td>24</td>\n",
       "    </tr>\n",
       "    <tr>\n",
       "      <th>3</th>\n",
       "      <td>Afghanistan</td>\n",
       "      <td>0.0</td>\n",
       "      <td>0.0</td>\n",
       "      <td>2020</td>\n",
       "      <td>1</td>\n",
       "      <td>25</td>\n",
       "    </tr>\n",
       "    <tr>\n",
       "      <th>4</th>\n",
       "      <td>Afghanistan</td>\n",
       "      <td>0.0</td>\n",
       "      <td>0.0</td>\n",
       "      <td>2020</td>\n",
       "      <td>1</td>\n",
       "      <td>26</td>\n",
       "    </tr>\n",
       "  </tbody>\n",
       "</table>\n",
       "</div>"
      ],
      "text/plain": [
       "  Country_Region  ConfirmedCases  Fatalities  Year  Month  Day\n",
       "0   Afghanistan              0.0         0.0  2020      1   22\n",
       "1   Afghanistan              0.0         0.0  2020      1   23\n",
       "2   Afghanistan              0.0         0.0  2020      1   24\n",
       "3   Afghanistan              0.0         0.0  2020      1   25\n",
       "4   Afghanistan              0.0         0.0  2020      1   26"
      ]
     },
     "execution_count": 18,
     "metadata": {},
     "output_type": "execute_result"
    }
   ],
   "source": [
    "#先ほどのコードが反映されているか確認\n",
    "\n",
    "train_df.head()"
   ]
  },
  {
   "cell_type": "code",
   "execution_count": 19,
   "id": "three-daisy",
   "metadata": {
    "id": "qzuMDB79ptX9",
    "outputId": "a78588f5-74ba-477c-ce37-c7593ae8992c",
    "papermill": {
     "duration": 0.05285,
     "end_time": "2021-07-23T15:42:00.206855",
     "exception": false,
     "start_time": "2021-07-23T15:42:00.154005",
     "status": "completed"
    },
    "tags": []
   },
   "outputs": [
    {
     "data": {
      "text/html": [
       "<div>\n",
       "<style scoped>\n",
       "    .dataframe tbody tr th:only-of-type {\n",
       "        vertical-align: middle;\n",
       "    }\n",
       "\n",
       "    .dataframe tbody tr th {\n",
       "        vertical-align: top;\n",
       "    }\n",
       "\n",
       "    .dataframe thead th {\n",
       "        text-align: right;\n",
       "    }\n",
       "</style>\n",
       "<table border=\"1\" class=\"dataframe\">\n",
       "  <thead>\n",
       "    <tr style=\"text-align: right;\">\n",
       "      <th></th>\n",
       "      <th>Country_Region</th>\n",
       "      <th>Year</th>\n",
       "      <th>Month</th>\n",
       "      <th>Day</th>\n",
       "    </tr>\n",
       "  </thead>\n",
       "  <tbody>\n",
       "    <tr>\n",
       "      <th>0</th>\n",
       "      <td>Afghanistan</td>\n",
       "      <td>2020</td>\n",
       "      <td>4</td>\n",
       "      <td>2</td>\n",
       "    </tr>\n",
       "    <tr>\n",
       "      <th>1</th>\n",
       "      <td>Afghanistan</td>\n",
       "      <td>2020</td>\n",
       "      <td>4</td>\n",
       "      <td>3</td>\n",
       "    </tr>\n",
       "    <tr>\n",
       "      <th>2</th>\n",
       "      <td>Afghanistan</td>\n",
       "      <td>2020</td>\n",
       "      <td>4</td>\n",
       "      <td>4</td>\n",
       "    </tr>\n",
       "    <tr>\n",
       "      <th>3</th>\n",
       "      <td>Afghanistan</td>\n",
       "      <td>2020</td>\n",
       "      <td>4</td>\n",
       "      <td>5</td>\n",
       "    </tr>\n",
       "    <tr>\n",
       "      <th>4</th>\n",
       "      <td>Afghanistan</td>\n",
       "      <td>2020</td>\n",
       "      <td>4</td>\n",
       "      <td>6</td>\n",
       "    </tr>\n",
       "  </tbody>\n",
       "</table>\n",
       "</div>"
      ],
      "text/plain": [
       "  Country_Region  Year  Month  Day\n",
       "0   Afghanistan   2020      4    2\n",
       "1   Afghanistan   2020      4    3\n",
       "2   Afghanistan   2020      4    4\n",
       "3   Afghanistan   2020      4    5\n",
       "4   Afghanistan   2020      4    6"
      ]
     },
     "execution_count": 19,
     "metadata": {},
     "output_type": "execute_result"
    }
   ],
   "source": [
    "test_df.head()"
   ]
  },
  {
   "cell_type": "code",
   "execution_count": 20,
   "id": "gentle-jaguar",
   "metadata": {
    "id": "n6BpjucZptX-",
    "outputId": "f8e8f69d-2f08-44a9-8fa9-9ccbf5c298ae",
    "papermill": {
     "duration": 0.050545,
     "end_time": "2021-07-23T15:42:00.296687",
     "exception": false,
     "start_time": "2021-07-23T15:42:00.246142",
     "status": "completed"
    },
    "tags": []
   },
   "outputs": [
    {
     "data": {
      "text/plain": [
       "(array([2020], dtype=int64), array([2020], dtype=int64))"
      ]
     },
     "execution_count": 20,
     "metadata": {},
     "output_type": "execute_result"
    }
   ],
   "source": [
    "#Year列のユニーク値(種類)を調べてみる\n",
    "\n",
    "train_df.Year.unique(),test_df.Year.unique()"
   ]
  },
  {
   "cell_type": "code",
   "execution_count": 21,
   "id": "capital-necessity",
   "metadata": {
    "id": "8uuUIEMdptX-",
    "papermill": {
     "duration": 0.047061,
     "end_time": "2021-07-23T15:42:00.383016",
     "exception": false,
     "start_time": "2021-07-23T15:42:00.335955",
     "status": "completed"
    },
    "tags": []
   },
   "outputs": [],
   "source": [
    "#Year列には[2020]しか含まれていない事が分かったので削除する\n",
    "\n",
    "del train_df['Year']\n",
    "del test_df['Year']"
   ]
  },
  {
   "cell_type": "markdown",
   "id": "civilian-running",
   "metadata": {
    "id": "M2jTzIqOptX-",
    "papermill": {
     "duration": 0.038811,
     "end_time": "2021-07-23T15:42:00.461404",
     "exception": false,
     "start_time": "2021-07-23T15:42:00.422593",
     "status": "completed"
    },
    "tags": []
   },
   "source": [
    "## 目的変数と説明変数を分割"
   ]
  },
  {
   "cell_type": "code",
   "execution_count": 22,
   "id": "charged-prime",
   "metadata": {
    "id": "nUx6T7mTptX_",
    "papermill": {
     "duration": 0.071853,
     "end_time": "2021-07-23T15:42:00.573415",
     "exception": false,
     "start_time": "2021-07-23T15:42:00.501562",
     "status": "completed"
    },
    "tags": []
   },
   "outputs": [],
   "source": [
    "#trainデータのConfirmedCasesとFatalitiesをそれぞれ整数にする\n",
    "\n",
    "train_df['ConfirmedCases'] = train_df['ConfirmedCases'].apply(int)\n",
    "train_df['Fatalities'] = train_df['Fatalities'].apply(int)"
   ]
  },
  {
   "cell_type": "code",
   "execution_count": 23,
   "id": "molecular-florida",
   "metadata": {
    "id": "CDgg2dLPptX_",
    "papermill": {
     "duration": 0.047377,
     "end_time": "2021-07-23T15:42:00.659901",
     "exception": false,
     "start_time": "2021-07-23T15:42:00.612524",
     "status": "completed"
    },
    "tags": []
   },
   "outputs": [],
   "source": [
    "#trainデータのConfirmedCasesをcases,Fatalitiesをfatalitiesと変数に格納しtrainデータの列からは削除する\n",
    "\n",
    "cases = train_df.ConfirmedCases\n",
    "fatalities = train_df.Fatalities\n",
    "del train_df['ConfirmedCases']\n",
    "del train_df['Fatalities']"
   ]
  },
  {
   "cell_type": "markdown",
   "id": "scheduled-airport",
   "metadata": {
    "id": "3iveHhsbptX_",
    "papermill": {
     "duration": 0.039174,
     "end_time": "2021-07-23T15:42:00.739670",
     "exception": false,
     "start_time": "2021-07-23T15:42:00.700496",
     "status": "completed"
    },
    "tags": []
   },
   "source": [
    "## ラベルエンコード"
   ]
  },
  {
   "cell_type": "code",
   "execution_count": 24,
   "id": "everyday-blanket",
   "metadata": {
    "id": "tRhvZ8DMptX_",
    "papermill": {
     "duration": 0.059649,
     "end_time": "2021-07-23T15:42:00.838972",
     "exception": false,
     "start_time": "2021-07-23T15:42:00.779323",
     "status": "completed"
    },
    "tags": []
   },
   "outputs": [],
   "source": [
    "#LabelEncoder()は，文字列や数値で表されたラベルを，0~(ラベル種類数-1)までの数値に変換してくれるもの\n",
    "#LabelEncoderを使いCountry_Regionを国名ではなくナンバリングしていく\n",
    "\n",
    "lb = preprocessing.LabelEncoder()\n",
    "train_df['Country_Region'] = lb.fit_transform(train_df['Country_Region'])\n",
    "test_df['Country_Region'] = lb.transform(test_df['Country_Region'])"
   ]
  },
  {
   "cell_type": "code",
   "execution_count": 25,
   "id": "patient-region",
   "metadata": {
    "id": "8YS0TgjRptX_",
    "outputId": "fe035e1f-57f0-4d3e-9ee3-e284ee09bde0",
    "papermill": {
     "duration": 0.351314,
     "end_time": "2021-07-23T15:42:01.229597",
     "exception": false,
     "start_time": "2021-07-23T15:42:00.878283",
     "status": "completed"
    },
    "tags": []
   },
   "outputs": [
    {
     "data": {
      "text/plain": [
       "<AxesSubplot:>"
      ]
     },
     "execution_count": 25,
     "metadata": {},
     "output_type": "execute_result"
    },
    {
     "data": {
      "image/png": "[encoded data removed]",
      "text/plain": [
       "<Figure size 720x720 with 2 Axes>"
      ]
     },
     "metadata": {
      "needs_background": "light"
     },
     "output_type": "display_data"
    }
   ],
   "source": [
    "#matplotlibを使いデータを可視化する\n",
    "\n",
    "plt.figure(figsize = (10,10))\n",
    "corr = train_df.corr()\n",
    "sns.heatmap(corr , mask=np.zeros_like(corr, dtype=np.bool) , cmap = \"coolwarm\", annot = True, fmt = \".2f\")"
   ]
  },
  {
   "cell_type": "markdown",
   "id": "spoken-affair",
   "metadata": {
    "id": "TYUa7JlVptYA",
    "papermill": {
     "duration": 0.042051,
     "end_time": "2021-07-23T15:42:01.312660",
     "exception": false,
     "start_time": "2021-07-23T15:42:01.270609",
     "status": "completed"
    },
    "tags": []
   },
   "source": [
    "## 正規化"
   ]
  },
  {
   "cell_type": "code",
   "execution_count": 26,
   "id": "hindu-slide",
   "metadata": {
    "id": "9t3wTXlxptYA",
    "papermill": {
     "duration": 0.050849,
     "end_time": "2021-07-23T15:42:01.405242",
     "exception": false,
     "start_time": "2021-07-23T15:42:01.354393",
     "status": "completed"
    },
    "tags": []
   },
   "outputs": [],
   "source": [
    "#trainデータとtestデータの数値を正規化(0〜1の範囲へ変換)する\n",
    "#MinMaxScalerの参考：https://qiita.com/Qiitaman/items/c94420e8b86aae5f28a9\n",
    "\n",
    "scaler = MinMaxScaler()\n",
    "x_train = scaler.fit_transform(train_df.values)\n",
    "x_test = scaler.transform(test_df.values)"
   ]
  },
  {
   "cell_type": "markdown",
   "id": "athletic-logging",
   "metadata": {
    "id": "tng8GPQfptYA",
    "papermill": {
     "duration": 0.040246,
     "end_time": "2021-07-23T15:42:01.486040",
     "exception": false,
     "start_time": "2021-07-23T15:42:01.445794",
     "status": "completed"
    },
    "tags": []
   },
   "source": [
    "# モデル作成"
   ]
  },
  {
   "cell_type": "markdown",
   "id": "interesting-arcade",
   "metadata": {
    "id": "kmZSJMTvptYA",
    "papermill": {
     "duration": 0.04124,
     "end_time": "2021-07-23T15:42:01.567946",
     "exception": false,
     "start_time": "2021-07-23T15:42:01.526706",
     "status": "completed"
    },
    "tags": []
   },
   "source": [
    "## ConfirmedCasesに対するモデル作成"
   ]
  },
  {
   "cell_type": "code",
   "execution_count": 27,
   "id": "diverse-asbestos",
   "metadata": {
    "id": "KCgBOEO_ptYE",
    "papermill": {
     "duration": 0.119745,
     "end_time": "2021-07-23T15:42:01.728956",
     "exception": false,
     "start_time": "2021-07-23T15:42:01.609211",
     "status": "completed"
    },
    "tags": []
   },
   "outputs": [],
   "source": [
    "#XGBRegressorをインポートする\n",
    "\n",
    "from xgboost import XGBRegressor"
   ]
  },
  {
   "cell_type": "code",
   "execution_count": 28,
   "id": "pacific-inside",
   "metadata": {
    "id": "Nhake5jVptYE",
    "outputId": "f8cccb9d-a48b-41ec-a934-db088a7d8d7d",
    "papermill": {
     "duration": 36.159244,
     "end_time": "2021-07-23T15:42:37.929263",
     "exception": false,
     "start_time": "2021-07-23T15:42:01.770019",
     "status": "completed"
    },
    "tags": []
   },
   "outputs": [
    {
     "data": {
      "text/plain": [
       "XGBRegressor(base_score=0.5, booster='gbtree', colsample_bylevel=1,\n",
       "             colsample_bynode=1, colsample_bytree=1, gamma=0, gpu_id=-1,\n",
       "             importance_type='gain', interaction_constraints='',\n",
       "             learning_rate=0.300000012, max_delta_step=0, max_depth=27,\n",
       "             min_child_weight=1, missing=nan, monotone_constraints='()',\n",
       "             n_estimators=2500, n_jobs=8, num_parallel_tree=1, random_state=0,\n",
       "             reg_alpha=0, reg_lambda=1, scale_pos_weight=1, subsample=1,\n",
       "             tree_method='exact', validate_parameters=1, verbosity=None)"
      ]
     },
     "execution_count": 28,
     "metadata": {},
     "output_type": "execute_result"
    }
   ],
   "source": [
    "#モデルにXGRegressorを使う\n",
    "#n_estimatorsは構築する決定木の本数\n",
    "#random_stateを設定する事により何度実行しても同じランダムを出してくれる（結果が毎回変わらないようにする）\n",
    "#max_depthは決定木の深さを決める数値\n",
    "#trainデータとcasesをフィッティングさせモデルを学習させる\n",
    "\n",
    "rf = XGBRegressor(n_estimators = 2500 , max_depth = 27, random_state = 0 )\n",
    "rf.fit(x_train,cases)"
   ]
  },
  {
   "cell_type": "markdown",
   "id": "million-purpose",
   "metadata": {
    "id": "19AVjF8sptYF",
    "papermill": {
     "duration": 0.044618,
     "end_time": "2021-07-23T15:42:38.015530",
     "exception": false,
     "start_time": "2021-07-23T15:42:37.970912",
     "status": "completed"
    },
    "tags": []
   },
   "source": [
    "## ConfirmedCasesに対する予測"
   ]
  },
  {
   "cell_type": "code",
   "execution_count": 29,
   "id": "surgical-telling",
   "metadata": {
    "execution": {
     "iopub.execute_input": "2021-07-23T15:42:38.108475Z",
     "iopub.status.busy": "2021-07-23T15:42:38.107514Z",
     "iopub.status.idle": "2021-07-23T15:42:40.226599Z",
     "shell.execute_reply": "2021-07-23T15:42:40.226069Z",
     "shell.execute_reply.started": "2021-07-23T15:20:18.758105Z"
    },
    "id": "et-sZr3aptYF",
    "outputId": "6df0d498-c5ed-4cf4-efb1-d9b337503f2d",
    "papermill": {
     "duration": 2.167017,
     "end_time": "2021-07-23T15:42:40.226747",
     "exception": false,
     "start_time": "2021-07-23T15:42:38.059730",
     "status": "completed"
    },
    "tags": []
   },
   "outputs": [
    {
     "data": {
      "text/plain": [
       "array([237.00096 , 237.00096 , 237.00096 , ...,   8.001076,   8.001076,\n",
       "         8.001076], dtype=float32)"
      ]
     },
     "execution_count": 29,
     "metadata": {},
     "output_type": "execute_result"
    }
   ],
   "source": [
    "#先ほど学習させたモデル(rf)でtestデータから予測する\n",
    "\n",
    "cases_pred = rf.predict(x_test)\n",
    "cases_pred"
   ]
  },
  {
   "cell_type": "code",
   "execution_count": 30,
   "id": "upper-torture",
   "metadata": {
    "execution": {
     "iopub.execute_input": "2021-07-23T15:42:40.326541Z",
     "iopub.status.busy": "2021-07-23T15:42:40.325680Z",
     "iopub.status.idle": "2021-07-23T15:42:40.329060Z",
     "shell.execute_reply": "2021-07-23T15:42:40.329535Z",
     "shell.execute_reply.started": "2021-07-23T15:20:24.955277Z"
    },
    "id": "sb534z_OptYF",
    "outputId": "bda41433-88a5-4cb6-8c4c-8295054be743",
    "papermill": {
     "duration": 0.055246,
     "end_time": "2021-07-23T15:42:40.329688",
     "exception": false,
     "start_time": "2021-07-23T15:42:40.274442",
     "status": "completed"
    },
    "tags": []
   },
   "outputs": [
    {
     "data": {
      "text/plain": [
       "array([237, 237, 237, ...,   8,   8,   8])"
      ]
     },
     "execution_count": 30,
     "metadata": {},
     "output_type": "execute_result"
    }
   ],
   "source": [
    "#予測したデータを小数点以下四捨五入する\n",
    "\n",
    "cases_pred = np.around(cases_pred,decimals = 0).astype('int')\n",
    "cases_pred"
   ]
  },
  {
   "cell_type": "markdown",
   "id": "occupied-smith",
   "metadata": {
    "id": "isiLR5i7ptYG",
    "papermill": {
     "duration": 0.045565,
     "end_time": "2021-07-23T15:42:40.419723",
     "exception": false,
     "start_time": "2021-07-23T15:42:40.374158",
     "status": "completed"
    },
    "tags": []
   },
   "source": [
    "## Fatalitiesに対するモデル作成"
   ]
  },
  {
   "cell_type": "code",
   "execution_count": 31,
   "id": "alternative-stock",
   "metadata": {
    "execution": {
     "iopub.execute_input": "2021-07-23T15:42:40.555210Z",
     "iopub.status.busy": "2021-07-23T15:42:40.544505Z",
     "iopub.status.idle": "2021-07-23T15:42:40.572856Z",
     "shell.execute_reply": "2021-07-23T15:42:40.572301Z",
     "shell.execute_reply.started": "2021-07-23T15:38:56.468462Z"
    },
    "id": "Fyzm8HywptYG",
    "outputId": "3017e277-c2eb-4dd7-e43b-f857ae6b16d5",
    "papermill": {
     "duration": 0.109698,
     "end_time": "2021-07-23T15:42:40.573007",
     "exception": false,
     "start_time": "2021-07-23T15:42:40.463309",
     "status": "completed"
    },
    "tags": []
   },
   "outputs": [],
   "source": [
    "#先ほど変数にしたcasesをx_train_casにリストとして格納していく\n",
    "\n",
    "# casesを配列に変換\n",
    "cases_arry = cases.values\n",
    "\n",
    "x_train_cas = []\n",
    "for i in range(len(x_train)):\n",
    "    x = list(x_train[i])\n",
    "    x.append(cases_arry[i])\n",
    "    x_train_cas.append(x)\n",
    "    \n",
    "#格納されているか１つ目のリストを表示して確認する\n",
    "# x_train_cas[0]"
   ]
  },
  {
   "cell_type": "code",
   "execution_count": 32,
   "id": "drawn-exclusive",
   "metadata": {
    "execution": {
     "iopub.execute_input": "2021-07-23T15:42:40.668667Z",
     "iopub.status.busy": "2021-07-23T15:42:40.667939Z",
     "iopub.status.idle": "2021-07-23T15:42:40.671472Z",
     "shell.execute_reply": "2021-07-23T15:42:40.671993Z",
     "shell.execute_reply.started": "2021-07-23T15:39:34.030922Z"
    },
    "papermill": {
     "duration": 0.051624,
     "end_time": "2021-07-23T15:42:40.672145",
     "exception": false,
     "start_time": "2021-07-23T15:42:40.620521",
     "status": "completed"
    },
    "tags": []
   },
   "outputs": [
    {
     "data": {
      "text/plain": [
       "array([[0.        , 0.        , 0.7       ],\n",
       "       [0.        , 0.        , 0.73333333],\n",
       "       [0.        , 0.        , 0.76666667],\n",
       "       ...,\n",
       "       [1.        , 0.66666667, 0.96666667],\n",
       "       [1.        , 0.66666667, 1.        ],\n",
       "       [1.        , 1.        , 0.        ]])"
      ]
     },
     "metadata": {},
     "output_type": "display_data"
    }
   ],
   "source": [
    "# x_trainを確認する\n",
    "display(x_train)"
   ]
  },
  {
   "cell_type": "code",
   "execution_count": 33,
   "id": "generous-sweet",
   "metadata": {
    "execution": {
     "iopub.execute_input": "2021-07-23T15:42:40.829936Z",
     "iopub.status.busy": "2021-07-23T15:42:40.828308Z",
     "iopub.status.idle": "2021-07-23T15:42:40.830680Z",
     "shell.execute_reply": "2021-07-23T15:42:40.831150Z",
     "shell.execute_reply.started": "2021-07-23T15:40:06.612732Z"
    },
    "id": "i8rQJA_tptYG",
    "papermill": {
     "duration": 0.106846,
     "end_time": "2021-07-23T15:42:40.831317",
     "exception": false,
     "start_time": "2021-07-23T15:42:40.724471",
     "status": "completed"
    },
    "tags": []
   },
   "outputs": [],
   "source": [
    "#x_train_casをnumpy配列に変換する\n",
    "\n",
    "x_train_cas = np.array(x_train_cas)"
   ]
  },
  {
   "cell_type": "code",
   "execution_count": 34,
   "id": "demanding-maine",
   "metadata": {
    "execution": {
     "iopub.execute_input": "2021-07-23T15:42:40.928535Z",
     "iopub.status.busy": "2021-07-23T15:42:40.927766Z",
     "iopub.status.idle": "2021-07-23T15:42:51.340479Z",
     "shell.execute_reply": "2021-07-23T15:42:51.340030Z",
     "shell.execute_reply.started": "2021-07-23T15:40:09.801095Z"
    },
    "id": "m2tZEH4NptYH",
    "outputId": "97c5e603-27e7-4edb-979e-baf840b3de3d",
    "papermill": {
     "duration": 10.465905,
     "end_time": "2021-07-23T15:42:51.340608",
     "exception": false,
     "start_time": "2021-07-23T15:42:40.874703",
     "status": "completed"
    },
    "tags": []
   },
   "outputs": [
    {
     "data": {
      "text/plain": [
       "XGBRegressor(base_score=0.5, booster='gbtree', colsample_bylevel=1,\n",
       "             colsample_bynode=1, colsample_bytree=1, gamma=0, gpu_id=-1,\n",
       "             importance_type='gain', interaction_constraints='',\n",
       "             learning_rate=0.300000012, max_delta_step=0, max_depth=27,\n",
       "             min_child_weight=1, missing=nan, monotone_constraints='()',\n",
       "             n_estimators=2500, n_jobs=2, num_parallel_tree=1, random_state=0,\n",
       "             reg_alpha=0, reg_lambda=1, scale_pos_weight=1, subsample=1,\n",
       "             tree_method='exact', validate_parameters=1, verbosity=None)"
      ]
     },
     "execution_count": 34,
     "metadata": {},
     "output_type": "execute_result"
    }
   ],
   "source": [
    "#x_train_casとfatalitiesを使ってモデルに学習させる\n",
    "\n",
    "rf = XGBRegressor(n_estimators = 2500  , max_depth = 27, random_state = 0)\n",
    "rf.fit(x_train_cas,fatalities)"
   ]
  },
  {
   "cell_type": "markdown",
   "id": "fabulous-hartford",
   "metadata": {
    "id": "RljbOxKbptYH",
    "papermill": {
     "duration": 0.043339,
     "end_time": "2021-07-23T15:42:51.431569",
     "exception": false,
     "start_time": "2021-07-23T15:42:51.388230",
     "status": "completed"
    },
    "tags": []
   },
   "source": [
    "## Fatalitiesに対する予測"
   ]
  },
  {
   "cell_type": "code",
   "execution_count": 35,
   "id": "diverse-wings",
   "metadata": {
    "execution": {
     "iopub.execute_input": "2021-07-23T15:42:51.552815Z",
     "iopub.status.busy": "2021-07-23T15:42:51.547540Z",
     "iopub.status.idle": "2021-07-23T15:42:51.567392Z",
     "shell.execute_reply": "2021-07-23T15:42:51.567895Z",
     "shell.execute_reply.started": "2021-07-23T15:40:22.497334Z"
    },
    "id": "7QNRr4luptYH",
    "outputId": "da79e70d-5ece-4f6c-d925-60f09d8a2ad9",
    "papermill": {
     "duration": 0.089783,
     "end_time": "2021-07-23T15:42:51.568061",
     "exception": false,
     "start_time": "2021-07-23T15:42:51.478278",
     "status": "completed"
    },
    "tags": []
   },
   "outputs": [
    {
     "data": {
      "text/plain": [
       "[0.0, 1.0, 0.03333333333333333, 237]"
      ]
     },
     "execution_count": 35,
     "metadata": {},
     "output_type": "execute_result"
    }
   ],
   "source": [
    "#testデータもtrainデータ同様にリスト化する\n",
    "\n",
    "x_test_cas = []\n",
    "for i in range(len(x_test)):\n",
    "    x = list(x_test[i])\n",
    "    x.append(cases_pred[i])\n",
    "    x_test_cas.append(x)\n",
    "    \n",
    "#格納されているか１つ目のリストを表示して確認する\n",
    "x_test_cas[0]"
   ]
  },
  {
   "cell_type": "code",
   "execution_count": 36,
   "id": "satisfactory-nebraska",
   "metadata": {
    "execution": {
     "iopub.execute_input": "2021-07-23T15:42:51.697911Z",
     "iopub.status.busy": "2021-07-23T15:42:51.689338Z",
     "iopub.status.idle": "2021-07-23T15:42:51.700373Z",
     "shell.execute_reply": "2021-07-23T15:42:51.699942Z",
     "shell.execute_reply.started": "2021-07-23T15:40:52.632473Z"
    },
    "id": "JnxhT9FqptYI",
    "papermill": {
     "duration": 0.086173,
     "end_time": "2021-07-23T15:42:51.700498",
     "exception": false,
     "start_time": "2021-07-23T15:42:51.614325",
     "status": "completed"
    },
    "tags": []
   },
   "outputs": [],
   "source": [
    "#x_train_casをnumpy配列に変換する\n",
    "\n",
    "x_test_cas = np.array(x_test_cas)"
   ]
  },
  {
   "cell_type": "code",
   "execution_count": 37,
   "id": "optical-experience",
   "metadata": {
    "execution": {
     "iopub.execute_input": "2021-07-23T15:42:51.805444Z",
     "iopub.status.busy": "2021-07-23T15:42:51.797612Z",
     "iopub.status.idle": "2021-07-23T15:42:51.944080Z",
     "shell.execute_reply": "2021-07-23T15:42:51.944890Z",
     "shell.execute_reply.started": "2021-07-23T15:40:53.898024Z"
    },
    "id": "DWjj8hL-ptYI",
    "outputId": "9eb9b554-74fa-4902-8e85-0543d2dda4f9",
    "papermill": {
     "duration": 0.20022,
     "end_time": "2021-07-23T15:42:51.945081",
     "exception": false,
     "start_time": "2021-07-23T15:42:51.744861",
     "status": "completed"
    },
    "tags": []
   },
   "outputs": [
    {
     "data": {
      "text/plain": [
       "array([4.000073  , 4.000073  , 4.000073  , ..., 0.99968976, 0.99968976,\n",
       "       0.99968976], dtype=float32)"
      ]
     },
     "execution_count": 37,
     "metadata": {},
     "output_type": "execute_result"
    }
   ],
   "source": [
    "#学習させたモデル(rf)でtestデータから予測する\n",
    "\n",
    "fatalities_pred = rf.predict(x_test_cas)\n",
    "fatalities_pred"
   ]
  },
  {
   "cell_type": "code",
   "execution_count": 38,
   "id": "essential-quest",
   "metadata": {
    "execution": {
     "iopub.execute_input": "2021-07-23T15:42:52.050584Z",
     "iopub.status.busy": "2021-07-23T15:42:52.049948Z",
     "iopub.status.idle": "2021-07-23T15:42:52.053118Z",
     "shell.execute_reply": "2021-07-23T15:42:52.053552Z",
     "shell.execute_reply.started": "2021-07-23T15:41:07.030856Z"
    },
    "id": "B7ZTW55TptYJ",
    "outputId": "c90f4987-369e-4e2e-dbc8-2e84b4a408fe",
    "papermill": {
     "duration": 0.053771,
     "end_time": "2021-07-23T15:42:52.053691",
     "exception": false,
     "start_time": "2021-07-23T15:42:51.999920",
     "status": "completed"
    },
    "tags": []
   },
   "outputs": [
    {
     "data": {
      "text/plain": [
       "array([4, 4, 4, ..., 1, 1, 1])"
      ]
     },
     "execution_count": 38,
     "metadata": {},
     "output_type": "execute_result"
    }
   ],
   "source": [
    "#予測したデータを小数点以下四捨五入する\n",
    "\n",
    "fatalities_pred = np.around(fatalities_pred,decimals = 0).astype(\"int\")\n",
    "fatalities_pred"
   ]
  },
  {
   "cell_type": "markdown",
   "id": "virgin-musician",
   "metadata": {
    "id": "7wMOTDLwptYK",
    "papermill": {
     "duration": 0.044552,
     "end_time": "2021-07-23T15:42:52.149959",
     "exception": false,
     "start_time": "2021-07-23T15:42:52.105407",
     "status": "completed"
    },
    "tags": []
   },
   "source": [
    "# SUBMIT用ファイルを作成"
   ]
  },
  {
   "cell_type": "code",
   "execution_count": 39,
   "id": "swiss-procedure",
   "metadata": {
    "execution": {
     "iopub.execute_input": "2021-07-23T15:42:52.251124Z",
     "iopub.status.busy": "2021-07-23T15:42:52.250305Z",
     "iopub.status.idle": "2021-07-23T15:42:52.253348Z",
     "shell.execute_reply": "2021-07-23T15:42:52.253880Z",
     "shell.execute_reply.started": "2021-07-23T15:41:09.350256Z"
    },
    "id": "DVFOzqL0ptYK",
    "papermill": {
     "duration": 0.057147,
     "end_time": "2021-07-23T15:42:52.254038",
     "exception": false,
     "start_time": "2021-07-23T15:42:52.196891",
     "status": "completed"
    },
    "tags": []
   },
   "outputs": [],
   "source": [
    "#予測結果であるcases_predとfatalities_predの二つをsubmissionファイルの列に加える\n",
    "\n",
    "submission['ConfirmedCases'] = cases_pred\n",
    "submission['Fatalities'] = fatalities_pred"
   ]
  },
  {
   "cell_type": "code",
   "execution_count": 40,
   "id": "cellular-integrity",
   "metadata": {
    "execution": {
     "iopub.execute_input": "2021-07-23T15:42:52.357404Z",
     "iopub.status.busy": "2021-07-23T15:42:52.356643Z",
     "iopub.status.idle": "2021-07-23T15:42:52.359740Z",
     "shell.execute_reply": "2021-07-23T15:42:52.360202Z",
     "shell.execute_reply.started": "2021-07-23T15:41:10.461632Z"
    },
    "id": "-si7tqH9ptYL",
    "outputId": "daeebad1-cb93-4693-c63e-e89e42ea75f0",
    "papermill": {
     "duration": 0.056771,
     "end_time": "2021-07-23T15:42:52.360345",
     "exception": false,
     "start_time": "2021-07-23T15:42:52.303574",
     "status": "completed"
    },
    "tags": []
   },
   "outputs": [
    {
     "data": {
      "text/html": [
       "<div>\n",
       "<style scoped>\n",
       "    .dataframe tbody tr th:only-of-type {\n",
       "        vertical-align: middle;\n",
       "    }\n",
       "\n",
       "    .dataframe tbody tr th {\n",
       "        vertical-align: top;\n",
       "    }\n",
       "\n",
       "    .dataframe thead th {\n",
       "        text-align: right;\n",
       "    }\n",
       "</style>\n",
       "<table border=\"1\" class=\"dataframe\">\n",
       "  <thead>\n",
       "    <tr style=\"text-align: right;\">\n",
       "      <th></th>\n",
       "      <th>ForecastId</th>\n",
       "      <th>ConfirmedCases</th>\n",
       "      <th>Fatalities</th>\n",
       "    </tr>\n",
       "  </thead>\n",
       "  <tbody>\n",
       "    <tr>\n",
       "      <th>0</th>\n",
       "      <td>1</td>\n",
       "      <td>237</td>\n",
       "      <td>4</td>\n",
       "    </tr>\n",
       "    <tr>\n",
       "      <th>1</th>\n",
       "      <td>2</td>\n",
       "      <td>237</td>\n",
       "      <td>4</td>\n",
       "    </tr>\n",
       "    <tr>\n",
       "      <th>2</th>\n",
       "      <td>3</td>\n",
       "      <td>237</td>\n",
       "      <td>4</td>\n",
       "    </tr>\n",
       "    <tr>\n",
       "      <th>3</th>\n",
       "      <td>4</td>\n",
       "      <td>237</td>\n",
       "      <td>4</td>\n",
       "    </tr>\n",
       "    <tr>\n",
       "      <th>4</th>\n",
       "      <td>5</td>\n",
       "      <td>237</td>\n",
       "      <td>4</td>\n",
       "    </tr>\n",
       "  </tbody>\n",
       "</table>\n",
       "</div>"
      ],
      "text/plain": [
       "   ForecastId  ConfirmedCases  Fatalities\n",
       "0           1             237           4\n",
       "1           2             237           4\n",
       "2           3             237           4\n",
       "3           4             237           4\n",
       "4           5             237           4"
      ]
     },
     "execution_count": 40,
     "metadata": {},
     "output_type": "execute_result"
    }
   ],
   "source": [
    "#コードが反映されているか確認\n",
    "\n",
    "submission.head()"
   ]
  },
  {
   "cell_type": "code",
   "execution_count": 41,
   "id": "bored-ready",
   "metadata": {
    "execution": {
     "iopub.execute_input": "2021-07-23T15:42:52.458592Z",
     "iopub.status.busy": "2021-07-23T15:42:52.457895Z",
     "iopub.status.idle": "2021-07-23T15:42:52.489996Z",
     "shell.execute_reply": "2021-07-23T15:42:52.489374Z",
     "shell.execute_reply.started": "2021-07-23T15:41:13.433259Z"
    },
    "id": "VpyQPts5ptYL",
    "papermill": {
     "duration": 0.080472,
     "end_time": "2021-07-23T15:42:52.490146",
     "exception": false,
     "start_time": "2021-07-23T15:42:52.409674",
     "status": "completed"
    },
    "tags": []
   },
   "outputs": [],
   "source": [
    "#submissionファイルを行番号を無しでcsvファイルにする。\n",
    "\n",
    "submission.to_csv(\"submission.csv\" , index = False)"
   ]
  },
  {
   "cell_type": "code",
   "execution_count": null,
   "id": "jewish-employment",
   "metadata": {
    "papermill": {
     "duration": 0.044047,
     "end_time": "2021-07-23T15:42:52.581380",
     "exception": false,
     "start_time": "2021-07-23T15:42:52.537333",
     "status": "completed"
    },
    "tags": []
   },
   "outputs": [],
   "source": []
  }
 ],
 "metadata": {
  "kernelspec": {
   "display_name": "Python 3",
   "language": "python",
   "name": "python3"
  },
  "language_info": {
   "codemirror_mode": {
    "name": "ipython",
    "version": 3
   },
   "file_extension": ".py",
   "mimetype": "text/x-python",
   "name": "python",
   "nbconvert_exporter": "python",
   "pygments_lexer": "ipython3",
   "version": "3.9.2"
  },
  "papermill": {
   "default_parameters": {},
   "duration": 65.802963,
   "end_time": "2021-07-23T15:42:54.727602",
   "environment_variables": {},
   "exception": null,
   "input_path": "__notebook__.ipynb",
   "output_path": "__notebook__.ipynb",
   "parameters": {},
   "start_time": "2021-07-23T15:41:48.924639",
   "version": "2.3.3"
  }
 },
 "nbformat": 4,
 "nbformat_minor": 5
}
