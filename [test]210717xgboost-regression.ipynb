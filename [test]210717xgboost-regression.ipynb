{
 "cells": [
  {
   "cell_type": "code",
   "execution_count": 1,
   "metadata": {
    "_cell_guid": "b1076dfc-b9ad-4769-8c92-a6c4dae69d19",
    "_uuid": "8f2839f25d086af736a60e9eeb907d3b93b6e0e5"
   },
   "outputs": [],
   "source": [
    "import pandas as pd\n",
    "import numpy as np\n",
    "import matplotlib.pyplot as plt\n",
    "import seaborn as sns\n",
    "import datetime as dt\n",
    "import pycountry\n",
    "import plotly_express as px\n",
    "import plotly.graph_objects as go\n",
    "from plotly.subplots import make_subplots\n",
    "from geopy.geocoders import Nominatim\n",
    "import pickle\n",
    "\n",
    "sns.set_style('darkgrid')\n",
    "%matplotlib inline\n",
    "\n",
    "import warnings\n",
    "warnings.filterwarnings('ignore')\n",
    "from sklearn.preprocessing import OrdinalEncoder\n",
    "from sklearn import metrics\n",
    "import xgboost as xgb\n",
    "from xgboost import XGBRegressor\n",
    "from xgboost import plot_importance, plot_tree\n",
    "from sklearn.model_selection import GridSearchCV\n",
    "from graphviz import Digraph"
   ]
  },
  {
   "cell_type": "code",
   "execution_count": 2,
   "metadata": {},
   "outputs": [],
   "source": [
    "df_train = pd.read_csv('/kaggle/input/covid19-global-forecasting-week-4/train.csv') \n",
    "df_test = pd.read_csv('/kaggle/input/covid19-global-forecasting-week-4/test.csv')\n",
    "\n",
    "df_train['Date'] = pd.to_datetime(df_train['Date'], format = '%Y-%m-%d')\n",
    "df_test['Date'] = pd.to_datetime(df_test['Date'], format = '%Y-%m-%d')\n",
    "\n",
    "stamp = dt.datetime(2020, 4, 14)\n",
    "\n",
    "df_train = df_train[df_train['Date']<=stamp]\n",
    "df_test = df_test[df_test['Date']<=stamp]\n",
    "\n",
    "df_train['Days'] = df_train['Date']-df_train['Date'].min()\n",
    "\n",
    "df_train.Province_State.fillna('ZZZ', inplace=True)\n",
    "df_test.Province_State.fillna('ZZZ', inplace=True)\n",
    "\n",
    "df_train['Days'] = df_train['Days'].astype('timedelta64[D]')\n",
    "#print (df_test)"
   ]
  },
  {
   "cell_type": "code",
   "execution_count": 3,
   "metadata": {},
   "outputs": [
    {
     "name": "stdout",
     "output_type": "stream",
     "text": [
      "313\n"
     ]
    }
   ],
   "source": [
    "dict_geo = {}\n",
    "#print (df_train)\n",
    "df_mid = df_train.groupby(['Country_Region','Province_State'],as_index=False)\n",
    "print (len(df_mid))\n",
    "df_metadata = pd.read_csv('/kaggle/input/covid19-forecasting-metadata/region_metadata.csv') \n",
    "df_metadata.Province_State.fillna('ZZZ', inplace=True)\n",
    "dict_key = df_metadata.groupby(['Country_Region','Province_State'],as_index=False)\n",
    "\n",
    "for name,group in df_mid:\n",
    "    #print (name)\n",
    "    i = df_metadata[(df_metadata['Country_Region']== name[0])&(df_metadata['Province_State']== name[1])].index.tolist()[0]\n",
    "    #print (i)\n",
    "    lat = df_metadata.loc[i,'lat']\n",
    "    long = df_metadata.loc[i,'lon']\n",
    "    pop = df_metadata.loc[i,'population']\n",
    "    area = df_metadata.loc[i,'area']\n",
    "    dict_geo.update({name:[lat,long,pop,area]})"
   ]
  },
  {
   "cell_type": "code",
   "execution_count": 4,
   "metadata": {},
   "outputs": [],
   "source": [
    "def add_daily_measures(df):\n",
    "    df.loc[0,'Daily Cases'] = df.loc[0,'ConfirmedCases']\n",
    "    df.loc[0,'Daily Deaths'] = df.loc[0,'Fatalities']\n",
    "    for i in range(1,len(df)):\n",
    "        df.loc[i,'Daily Cases'] = df.loc[i,'ConfirmedCases'] - df.loc[i-1,'ConfirmedCases']\n",
    "        df.loc[i,'Daily Deaths'] = df.loc[i,'Fatalities'] - df.loc[i-1,'Fatalities']\n",
    "        if df.loc[i,'Daily Deaths']<0:\n",
    "            df.loc[i,'Daily Deaths'] = df.loc[i-1,'Daily Deaths']\n",
    "        if df.loc[i,'Daily Cases']<0:\n",
    "            df.loc[i,'Daily Cases'] = df.loc[i-1,'Daily Cases']\n",
    "        df.loc[i,'lastconfirm'] = df.loc[i-1,'ConfirmedCases']\n",
    "        df.loc[i,'lastdeath'] = df.loc[i-1,'Fatalities']\n",
    "    #Make the first row as 0 because we don't know the previous value\n",
    "    df.loc[0,'Daily Cases'] = 0\n",
    "    df.loc[0,'Daily Deaths'] = 0\n",
    "    df.loc[0,'lastconfirm'] = 0\n",
    "    df.loc[0,'lastdeath'] = 0\n",
    "    return df"
   ]
  },
  {
   "cell_type": "code",
   "execution_count": 5,
   "metadata": {},
   "outputs": [],
   "source": [
    "def train_dev_split(df, days):\n",
    "    #Last days data as dev set\n",
    "    date = df['Date'].max() - dt.timedelta(days=days)\n",
    "    return df,df[df['Date'] <= date], df[df['Date'] > date]\n",
    "\n",
    "def add_more_daily_measures(df):\n",
    "\n",
    "    for i in range(4,len(df)):\n",
    "        \n",
    "        df.loc[i,'Daily Cases 1'] = df.loc[i-1,'Daily Cases']\n",
    "        df.loc[i,'Daily Deaths 1'] = df.loc[i-1,'Daily Deaths']\n",
    "        \n",
    "        df.loc[i,'Daily Cases 2'] = df.loc[i-2,'Daily Cases']\n",
    "        df.loc[i,'Daily Deaths 2'] = df.loc[i-2,'Daily Deaths']\n",
    "        \n",
    "        df.loc[i,'Daily Cases 3'] = df.loc[i-3,'Daily Cases']\n",
    "        df.loc[i,'Daily Deaths 3'] = df.loc[i-3,'Daily Deaths']\n",
    "        \n",
    "    #Make the first row as 0 because we don't know the previous value\n",
    "    df.loc[0,'Daily Cases 1'] = 0\n",
    "    df.loc[0,'Daily Deaths 1'] = 0\n",
    "    \n",
    "    df.loc[0,'Daily Cases 2'] = 0\n",
    "    df.loc[0,'Daily Deaths 2'] = 0\n",
    "    \n",
    "    df.loc[0,'Daily Cases 3'] = 0\n",
    "    df.loc[0,'Daily Deaths 3'] = 0\n",
    "    \n",
    "    df.loc[1,'Daily Cases 1'] =  df.loc[0,'Daily Cases']\n",
    "    df.loc[1,'Daily Deaths 1'] = df.loc[0,'Daily Deaths']\n",
    "        \n",
    "    df.loc[1,'Daily Cases 2'] =  0\n",
    "    df.loc[1,'Daily Deaths 2'] = 0\n",
    "    \n",
    "    df.loc[1,'Daily Cases 3'] =  0\n",
    "    df.loc[1,'Daily Deaths 3'] = 0\n",
    "\n",
    "    \n",
    "    df.loc[2,'Daily Cases 1'] =  df.loc[1,'Daily Cases']\n",
    "    df.loc[2,'Daily Deaths 1'] = df.loc[1,'Daily Deaths']\n",
    "        \n",
    "    df.loc[2,'Daily Cases 2'] =  df.loc[0,'Daily Cases']\n",
    "    df.loc[2,'Daily Deaths 2'] = df.loc[0,'Daily Deaths']\n",
    "    \n",
    "    df.loc[2,'Daily Cases 3'] =  0\n",
    "    df.loc[2,'Daily Deaths 3'] = 0\n",
    "\n",
    "    return df"
   ]
  },
  {
   "cell_type": "code",
   "execution_count": 6,
   "metadata": {},
   "outputs": [],
   "source": [
    "df_list = []\n",
    "grouped = df_train.groupby(['Country_Region','Province_State'],as_index=False)\n",
    "\n",
    "\n",
    "for name,group in grouped:\n",
    "    #print (name)\n",
    "    df_tmp = df_train[(df_train[\"Country_Region\"]==name[0]) & (df_train[\"Province_State\"] == name[1])].reset_index(drop = True)\n",
    "    df_tmp = add_daily_measures(df_tmp)\n",
    "    #df_tmp['Daily Cases'] = np.log(df_tmp['Daily Cases']+1)\n",
    "    #df_tmp['Daily Deaths'] = np.log(df_tmp['Daily Deaths']+1)\n",
    "    df_tmp = add_more_daily_measures(df_tmp)\n",
    "    df_tmp['Lat'] = dict_geo[name][0]\n",
    "    df_tmp['Long'] = dict_geo[name][1]\n",
    "    df_tmp['population'] = dict_geo[name][2]\n",
    "    df_tmp['area'] = dict_geo[name][3]\n",
    "    df_tmp['popdensity'] = dict_geo[name][2]/dict_geo[name][3]\n",
    "    df_list.append(df_tmp)\n",
    "    #print (df_tmp)\n",
    "    \n",
    "df_concat = pd.concat(df_list,ignore_index=True)\n",
    "#print (df_concat)\n",
    "\n",
    "#df_train = create_features(df_train)\n",
    "df_train = df_concat\n",
    "#df_train['Lat'] = df_train['Lat']+90\n",
    "#df_train['Long'] = df_train['Lat']+90\n",
    "df_train,df_past,df_dev = train_dev_split(df_train,13)\n",
    "#print (df_dev)\n",
    "columns =['Daily Cases 3','Daily Cases 2','Daily Cases 1','Daily Deaths 3','Daily Deaths 2','Daily Deaths 1','Lat','Long','population','area','popdensity','lastconfirm','lastdeath','Days','Province_State', 'Country_Region','ConfirmedCases','Fatalities','Daily Cases','Daily Deaths']\n",
    "df_train = df_train[columns]\n",
    "#print (df_train)\n",
    "df_dev = df_dev[columns]"
   ]
  },
  {
   "cell_type": "code",
   "execution_count": 7,
   "metadata": {},
   "outputs": [],
   "source": [
    "columns_test =  ['Daily Cases 3','Daily Cases 2','Daily Cases 1','Daily Deaths 3','Daily Deaths 2','Daily Deaths 1','Lat','Long','population','area','popdensity','lastconfirm','lastdeath','Days']\n",
    "\n",
    "def generate_test_feature(df):\n",
    "    #print (df)\n",
    "    alpha = []\n",
    "    beta = []\n",
    "    df_target = pd.DataFrame(columns = columns_test)\n",
    "    df_adjust = df.tail(7)\n",
    "    \n",
    "    df_alpha = df_adjust['Daily Cases'].values\n",
    "    #print (df_alpha)\n",
    "\n",
    "    for i in range(6):\n",
    "        alpha.append(df_alpha[i+1]-df_alpha[i])\n",
    "    #print (alpha)\n",
    "    \n",
    "    df_beta = df_adjust['Daily Deaths'].values\n",
    "    #print (df_beta)\n",
    "    \n",
    "    for i in range(6):\n",
    "        beta.append(df_beta[i+1]-df_beta[i])\n",
    "    #print (beta)\n",
    "    \n",
    "    df_tmp = df.tail(1)\n",
    "    #print (df_tmp)\n",
    "\n",
    "    df_target['Daily Cases 3'] = df_tmp['Daily Cases 2']\n",
    "    df_target['Daily Cases 2'] = df_tmp['Daily Cases 1']\n",
    "    df_target['Daily Cases 1'] = df_tmp['Daily Cases']\n",
    "    \n",
    "    df_target['Daily Deaths 3'] = df_tmp['Daily Deaths 2']\n",
    "    df_target['Daily Deaths 2'] = df_tmp['Daily Deaths 1']\n",
    "    df_target['Daily Deaths 1'] = df_tmp['Daily Deaths']\n",
    "    \n",
    "    df_target['Lat'] = df_tmp['Lat']  \n",
    "    df_target['Long'] = df_tmp['Long']\n",
    "    df_target['population'] = df_tmp['population']\n",
    "    df_target['area'] = df_tmp['area'] \n",
    "    df_target['popdensity'] = df_tmp['popdensity']  \n",
    "    df_target['lastconfirm'] = df_tmp['ConfirmedCases']  \n",
    "    df_target['lastdeath'] = df_tmp['Fatalities']\n",
    "    df_target['Days'] = df_tmp['Days']+1\n",
    "    \n",
    "    return df_target,sum(alpha),sum(beta)"
   ]
  },
  {
   "cell_type": "code",
   "execution_count": 8,
   "metadata": {},
   "outputs": [
    {
     "name": "stdout",
     "output_type": "stream",
     "text": [
      "Index(['Daily Cases 3', 'Daily Cases 2', 'Daily Cases 1', 'Daily Deaths 3',\n",
      "       'Daily Deaths 2', 'Daily Deaths 1', 'Lat', 'Long', 'population', 'area',\n",
      "       'popdensity', 'lastconfirm', 'lastdeath', 'Days', 'Daily Deaths'],\n",
      "      dtype='object')\n",
      "Index(['Daily Cases 3', 'Daily Cases 2', 'Daily Cases 1', 'Lat', 'Long',\n",
      "       'population', 'area', 'popdensity', 'lastconfirm', 'lastdeath', 'Days',\n",
      "       'Daily Cases'],\n",
      "      dtype='object')\n"
     ]
    }
   ],
   "source": [
    "d = {'ForecastId':[], 'ConfirmedCases':[], 'Fatalities':[]}\n",
    "submission_confirm = []\n",
    "submission_death = []\n",
    "\n",
    "china_train = df_train[(df_train['Country_Region']=='China')&(df_train['Days']>50)]\n",
    "china_death = china_train.drop(['Country_Region','Province_State','ConfirmedCases','Fatalities','Daily Cases'], axis=1)\n",
    "china_death = china_death.values\n",
    "china_confirm = china_train.drop(['Country_Region','Province_State','ConfirmedCases','Fatalities','Daily Deaths 3','Daily Deaths 2','Daily Deaths 1','Daily Deaths'], axis=1)\n",
    "china_confirm = china_confirm.values\n",
    "\n",
    "df_train_noch = df_train[(df_train['Days']>50)&(df_train['Country_Region']!='China')]\n",
    "\n",
    "train_death = df_train_noch.drop(['Country_Region','Province_State','ConfirmedCases','Fatalities','Daily Cases'], axis=1)\n",
    "print (train_death.columns)\n",
    "train_death = train_death.values\n",
    "train_death = np.append(china_death,train_death,axis = 0)\n",
    "#print (train_death)\n",
    "\n",
    "\n",
    "train_confirm = df_train_noch.drop(['Country_Region','Province_State','ConfirmedCases','Fatalities','Daily Deaths 3','Daily Deaths 2','Daily Deaths 1','Daily Deaths'], axis=1)\n",
    "print (train_confirm.columns)\n",
    "train_confirm = train_confirm.values\n",
    "train_confirm = np.append(china_confirm,train_confirm,axis = 0)\n",
    "#print (train_confirm)\n",
    "\n",
    "X_train_confirm, y_train_confirm = train_confirm[:,:-1], train_confirm[:,-1:]\n",
    "X_train_death, y_train_death = train_death[:,:-1], train_death[:,-1:]\n",
    "\n",
    "#model1 for predicting Confirmed Cases\n",
    "model1 = XGBRegressor(n_estimators = 1000,learning_rate = 0.1,tree_method='gpu_hist')\n",
    "model1.fit(X_train_confirm, y_train_confirm[:,0])\n",
    "#model2 for predicting Fatalities\n",
    "model2 = XGBRegressor(n_estimators = 1000,learning_rate = 0.1,tree_method='gpu_hist')\n",
    "model2.fit(X_train_death, y_train_death[:,0])\n",
    "\n",
    "#Loop through all the unique countries\n",
    "for country in df_train.Country_Region.unique():\n",
    "    if  country=='China':\n",
    "        alpha = 0.1\n",
    "    else:\n",
    "        alpha = 1\n",
    "    df_train1 = df_train[df_train[\"Country_Region\"]==country]\n",
    "    for state in df_train1.Province_State.unique():\n",
    "        df_train2 = df_train1[df_train1[\"Province_State\"]==state]\n",
    "        #print (df_train2.tail(7))\n",
    "        df_train3 = df_train2.drop(['Country_Region','Province_State'], axis=1)\n",
    "        \n",
    "        df_overlay = df_dev[(df_dev[\"Country_Region\"]==country)&(df_dev[\"Province_State\"]==state)]\n",
    "        #print  (df_overlay['ConfirmedCases'].values)\n",
    "        \n",
    "        submission_confirm =submission_confirm + df_overlay['ConfirmedCases'].values.tolist()\n",
    "        submission_death =submission_death + df_overlay['Fatalities'].values.tolist()         \n",
    "        \n",
    "        for i in range (30):\n",
    "        \n",
    "            #get test feature\n",
    "            df_target,confirm_fact,deaths_fact =  generate_test_feature(df_train3)\n",
    "            df_target_death = df_target[columns_test]\n",
    "            df_target_confirm = df_target[columns_test].drop(['Daily Deaths 3','Daily Deaths 2','Daily Deaths 1'], axis=1)\n",
    "            \n",
    "            target_confirm = df_target_confirm.values\n",
    "            target_death = df_target_death.values\n",
    "            \n",
    "            if confirm_fact<0:\n",
    "                y_pred1 = abs(model1.predict(target_confirm))*0.85*alpha\n",
    "            else:\n",
    "                y_pred1 = abs(model1.predict(target_confirm))*alpha\n",
    "            if deaths_fact<0:\n",
    "                y_pred2 = abs(model2.predict(target_death))*0.8*alpha\n",
    "            else:\n",
    "                y_pred2 = abs(model2.predict(target_death))*alpha\n",
    "            #y_pred1 = np.exp(y_pred1)\n",
    "            #y_pred2 = np.exp(y_pred2)\n",
    "            \n",
    "            #print (state,country,'new confirm:',target[0][11]+int(y_pred1),'new deaths:',target[0][12]+int(y_pred2))\n",
    "            #print (state,country,'last 3 new confirm:',target_death[0][:3],'new confirm:',int(y_pred1),'last 3 new death:',target_death[0][3:6],'new death:',int(y_pred2),'days:',target_death[0][-1])\n",
    "            submission_confirm.append(target_death[0][11]+int(y_pred1))\n",
    "            submission_death.append(target_death[0][12]+int(y_pred2))\n",
    "\n",
    "            target = target_death.flatten()\n",
    "\n",
    "            target = np.append(target,target[11]+int(y_pred1))\n",
    "            target = np.append(target,target[12]+int(y_pred2))\n",
    "            target = np.append(target,int(y_pred1))\n",
    "            target = np.append(target,int(y_pred2))   \n",
    "\n",
    "            target = np.reshape(target, (1, 18))\n",
    "            last_index = df_train3.tail(1).index.values[0]\n",
    "\n",
    "            df_train3.loc[last_index+1] = target[0]\n",
    "\n",
    "                                      \n",
    "d['ConfirmedCases'] = submission_confirm\n",
    "d['Fatalities'] = submission_death\n",
    "a = np.arange(1,len(submission_death)+1,1)\n",
    "d['ForecastId'] = a \n"
   ]
  },
  {
   "cell_type": "code",
   "execution_count": 9,
   "metadata": {},
   "outputs": [
    {
     "name": "stdout",
     "output_type": "stream",
     "text": [
      "[0.03722166 0.659352   0.1991854  0.00654905 0.03377996 0.00791052\n",
      " 0.0049871  0.01593523 0.0051132  0.01745464 0.01251123]\n",
      "[0.00159183 0.00324796 0.00153008 0.10462982 0.10370696 0.76264745\n",
      " 0.00205878 0.00088782 0.00569295 0.00112198 0.00104322 0.00202086\n",
      " 0.00560355 0.00421665]\n",
      "   ForecastId  ConfirmedCases  Fatalities\n",
      "0           1           273.0         6.0\n",
      "1           2           281.0         6.0\n",
      "2           3           299.0         7.0\n",
      "3           4           349.0         7.0\n",
      "4           5           367.0        11.0\n"
     ]
    }
   ],
   "source": [
    "print(model1.feature_importances_)\n",
    "print(model2.feature_importances_)\n",
    "\n",
    "df_submit = pd.DataFrame(d)\n",
    "print (df_submit.head())\n",
    "df_submit.to_csv(r'submission.csv', index=False)"
   ]
  },
  {
   "cell_type": "code",
   "execution_count": 10,
   "metadata": {},
   "outputs": [
    {
     "data": {
      "image/png": "[encoded data removed]",
      "text/plain": [
       "<Figure size 1440x720 with 1 Axes>"
      ]
     },
     "metadata": {
      "needs_background": "light"
     },
     "output_type": "display_data"
    }
   ],
   "source": [
    "feature_name = ['Daily Cases 3', 'Daily Cases 2', 'Daily Cases 1', 'Lat', 'Long','population', 'area', 'popdensity', 'lastconfirm', 'lastdeath', 'Days']\n",
    "plt.figure(figsize=(20,10))\n",
    "plt.bar(feature_name, model1.feature_importances_,width = 0.35)\n",
    "plt.savefig(\"model1_feature.png\")\n",
    "plt.show()\n"
   ]
  },
  {
   "cell_type": "code",
   "execution_count": 11,
   "metadata": {},
   "outputs": [
    {
     "data": {
      "image/png": "[encoded data removed]",
      "text/plain": [
       "<Figure size 1440x720 with 1 Axes>"
      ]
     },
     "metadata": {
      "needs_background": "light"
     },
     "output_type": "display_data"
    }
   ],
   "source": [
    "feature_name = ['Daily Cases 3', 'Daily Cases 2', 'Daily Cases 1', 'Daily Deaths 3','Daily Deaths 2', 'Daily Deaths 1', 'Lat', 'Long', 'population', 'area','popdensity', 'lastconfirm', 'lastdeath', 'Days']\n",
    "plt.figure(figsize=(20,10))\n",
    "plt.bar(feature_name, model2.feature_importances_,width = 0.35)\n",
    "plt.savefig(\"model2_feature.png\")\n",
    "plt.show()"
   ]
  },
  {
   "cell_type": "code",
   "execution_count": 12,
   "metadata": {},
   "outputs": [
    {
     "data": {
      "text/plain": [
       "'model1.pdf'"
      ]
     },
     "execution_count": 12,
     "metadata": {},
     "output_type": "execute_result"
    }
   ],
   "source": [
    "#for tree_index in range(num_trees):\n",
    "dot = xgb.to_graphviz(model1)\n",
    "dot.render(\"model1\")"
   ]
  },
  {
   "cell_type": "code",
   "execution_count": 13,
   "metadata": {},
   "outputs": [
    {
     "data": {
      "text/plain": [
       "'model2.pdf'"
      ]
     },
     "execution_count": 13,
     "metadata": {},
     "output_type": "execute_result"
    }
   ],
   "source": [
    "dot = xgb.to_graphviz(model2)\n",
    "dot.render(\"model2\")"
   ]
  }
 ],
 "metadata": {
  "kernelspec": {
   "display_name": "Python 3",
   "language": "python",
   "name": "python3"
  },
  "language_info": {
   "codemirror_mode": {
    "name": "ipython",
    "version": 3
   },
   "file_extension": ".py",
   "mimetype": "text/x-python",
   "name": "python",
   "nbconvert_exporter": "python",
   "pygments_lexer": "ipython3",
   "version": "3.6.6"
  }
 },
 "nbformat": 4,
 "nbformat_minor": 4
}
